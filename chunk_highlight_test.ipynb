{
 "cells": [
  {
   "cell_type": "code",
   "execution_count": 1,
   "metadata": {},
   "outputs": [
    {
     "name": "stdout",
     "output_type": "stream",
     "text": [
      "随机选取的文本片段起始索引: 20, 长度: 100\n",
      "选取的文本片段:\n",
      "otebook中高亮显示文本分块的示例文本。通过随机选取文本片段，并使用分块API进行分块处理，最终以不同颜色高亮显示每个分块，确保相邻分块颜色不同，从而提高文本的可读性和视觉效果。这种方法在数据分析\n",
      "\n",
      "文本已分成 5 块。\n",
      "分块结果:\n",
      "Chunk 1: otebook中高亮显示文本分块的示例文\n",
      "Chunk 2: 本。通过随机选取文本片段，并使用分块AP\n",
      "Chunk 3: I进行分块处理，最终以不同颜色高亮显示每\n",
      "Chunk 4: 个分块，确保相邻分块颜色不同，从而提高文\n",
      "Chunk 5: 本的可读性和视觉效果。这种方法在数据分析\n",
      "\n"
     ]
    },
    {
     "data": {
      "text/html": [
       "<span style=\"background-color: lightblue; padding: 2px 4px; border-radius: 3px; margin: 1px;\">otebook中高亮显示文本分块的示例文</span> <span style=\"background-color: lightgreen; padding: 2px 4px; border-radius: 3px; margin: 1px;\">本。通过随机选取文本片段，并使用分块AP</span> <span style=\"background-color: lightpink; padding: 2px 4px; border-radius: 3px; margin: 1px;\">I进行分块处理，最终以不同颜色高亮显示每</span> <span style=\"background-color: lightyellow; padding: 2px 4px; border-radius: 3px; margin: 1px;\">个分块，确保相邻分块颜色不同，从而提高文</span> <span style=\"background-color: lightcoral; padding: 2px 4px; border-radius: 3px; margin: 1px;\">本的可读性和视觉效果。这种方法在数据分析</span>"
      ],
      "text/plain": [
       "<IPython.core.display.HTML object>"
      ]
     },
     "metadata": {},
     "output_type": "display_data"
    }
   ],
   "source": [
    "from util.chunk_highlight import TextHighlighter\n",
    "from typing import List\n",
    "\n",
    "def example_chunking_api(text: str, chunk_size: int = 20) -> List[str]:\n",
    "    \"\"\"\n",
    "    示例分块API，将文本按指定大小分块。\n",
    "\n",
    "    Args:\n",
    "        text (str): 要分块的文本。\n",
    "        chunk_size (int, optional): 每块的字符数。默认为20。\n",
    "\n",
    "    Returns:\n",
    "        List[str]: 分块后的文本列表。\n",
    "    \"\"\"\n",
    "    return [text[i:i+chunk_size] for i in range(0, len(text), chunk_size)]\n",
    "\n",
    "# 示例用法\n",
    "if __name__ == \"__main__\":\n",
    "    # 示例长文本\n",
    "    sample_text = (\n",
    "        \"这是一个用于展示如何在Jupyter Notebook中高亮显示文本分块的示例文本。\"\n",
    "        \"通过随机选取文本片段，并使用分块API进行分块处理，最终以不同颜色高亮显示每个分块，\"\n",
    "        \"确保相邻分块颜色不同，从而提高文本的可读性和视觉效果。\"\n",
    "        \"这种方法在数据分析、文本处理和报告生成等工业场景中非常有用。\"\n",
    "    )\n",
    "    \n",
    "    # 设置最大长度\n",
    "    max_len = 100\n",
    "    \n",
    "    # 创建TextHighlighter实例\n",
    "    highlighter = TextHighlighter(\n",
    "        long_text=sample_text,\n",
    "        chunking_api=example_chunking_api,\n",
    "        max_length=max_len\n",
    "    )\n",
    "    \n",
    "    # 显示高亮文本\n",
    "    highlighter.display_highlighted_text()"
   ]
  },
  {
   "cell_type": "code",
   "execution_count": null,
   "metadata": {},
   "outputs": [],
   "source": []
  }
 ],
 "metadata": {
  "kernelspec": {
   "display_name": "aibook",
   "language": "python",
   "name": "python3"
  },
  "language_info": {
   "codemirror_mode": {
    "name": "ipython",
    "version": 3
   },
   "file_extension": ".py",
   "mimetype": "text/x-python",
   "name": "python",
   "nbconvert_exporter": "python",
   "pygments_lexer": "ipython3",
   "version": "3.12.7"
  }
 },
 "nbformat": 4,
 "nbformat_minor": 2
}
